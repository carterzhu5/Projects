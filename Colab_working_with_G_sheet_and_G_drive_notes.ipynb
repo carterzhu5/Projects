{
  "nbformat": 4,
  "nbformat_minor": 0,
  "metadata": {
    "colab": {
      "name": "Colab working with G sheet and G drive notes.ipynb",
      "provenance": [],
      "collapsed_sections": [],
      "authorship_tag": "ABX9TyMqKWCq4NJHzheazUT0bALe",
      "include_colab_link": true
    },
    "kernelspec": {
      "name": "python3",
      "display_name": "Python 3"
    },
    "language_info": {
      "name": "python"
    }
  },
  "cells": [
    {
      "cell_type": "markdown",
      "metadata": {
        "id": "view-in-github",
        "colab_type": "text"
      },
      "source": [
        "<a href=\"https://colab.research.google.com/github/carterzhu5/Projects/blob/main/Colab_working_with_G_sheet_and_G_drive_notes.ipynb\" target=\"_parent\"><img src=\"https://colab.research.google.com/assets/colab-badge.svg\" alt=\"Open In Colab\"/></a>"
      ]
    },
    {
      "cell_type": "markdown",
      "source": [
        "**mount gdrive to colab**\n",
        "\n",
        "```\n",
        "# This is formatted as code\n",
        "```\n",
        "\n"
      ],
      "metadata": {
        "id": "O8XRfQ02YriJ"
      }
    },
    {
      "cell_type": "code",
      "source": [
        "from google.colab import drive\n",
        "drive.mount('/content/gdrive/',force_remount=True)"
      ],
      "metadata": {
        "colab": {
          "base_uri": "https://localhost:8080/"
        },
        "id": "BFNLSGQlW7V7",
        "outputId": "49e75be4-4ff5-4749-f324-1769ddef5294"
      },
      "execution_count": 2,
      "outputs": [
        {
          "output_type": "stream",
          "name": "stdout",
          "text": [
            "Mounted at /content/gdrive/\n"
          ]
        }
      ]
    },
    {
      "cell_type": "code",
      "source": [
        "! ls"
      ],
      "metadata": {
        "colab": {
          "base_uri": "https://localhost:8080/"
        },
        "id": "L_a9qjdkXPc8",
        "outputId": "71ff9b13-930a-4cf6-a23f-92410c72aabd"
      },
      "execution_count": 3,
      "outputs": [
        {
          "output_type": "stream",
          "name": "stdout",
          "text": [
            "gdrive\tsample_data\n"
          ]
        }
      ]
    },
    {
      "cell_type": "markdown",
      "source": [
        ""
      ],
      "metadata": {
        "id": "WMAZEJOS_Bui"
      }
    },
    {
      "cell_type": "markdown",
      "source": [
        "**Create Directory**\n"
      ],
      "metadata": {
        "id": "225P0hn9ZlTF"
      }
    },
    {
      "cell_type": "code",
      "source": [
        "! mkdir compiled data"
      ],
      "metadata": {
        "id": "iOetHgF4ZLpb"
      },
      "execution_count": 4,
      "outputs": []
    },
    {
      "cell_type": "code",
      "source": [
        "import pandas as pd"
      ],
      "metadata": {
        "id": "vx5qMvpNaF-m"
      },
      "execution_count": 5,
      "outputs": []
    },
    {
      "cell_type": "markdown",
      "source": [
        "**get access to google sheet and import data**"
      ],
      "metadata": {
        "id": "d381XNH49ES7"
      }
    },
    {
      "cell_type": "code",
      "source": [
        "from google.colab import auth\n",
        "auth.authenticate_user()\n",
        "\n",
        "import gspread\n",
        "from google.auth import default\n",
        "creds, _ = default()\n",
        "\n",
        "gc = gspread.authorize(creds)\n"
      ],
      "metadata": {
        "id": "KD69iTko9Ycz"
      },
      "execution_count": 6,
      "outputs": []
    },
    {
      "cell_type": "code",
      "source": [
        "wb = gc.open_by_key('1HcK_3NJKpqNxxsRWLnyi2htuwrT9RFTYakJwu7tcDCY')\n",
        "wks1 = wb.worksheet('工作表42')\n",
        "wks2 = wb.worksheet('工作表43')\n",
        "\n",
        "df_cfs_slots=pd.DataFrame(wks1.get_all_records())\n",
        "df_cfs_selection=pd.DataFrame(wks2.get_all_records())\n",
        "\n",
        "print(df_cfs_slots)\n",
        "print(df_cfs_selection)"
      ],
      "metadata": {
        "id": "UsGrW00t9seY",
        "colab": {
          "base_uri": "https://localhost:8080/"
        },
        "outputId": "3bb8dadb-1fed-4a1e-87d0-cab4d00b3b69"
      },
      "execution_count": 14,
      "outputs": [
        {
          "output_type": "stream",
          "name": "stdout",
          "text": [
            "        shopid  CFS Slots 1  CFS Slots 2\n",
            "0    702074807            0            0\n",
            "1    702773389            0            0\n",
            "2    706506841            0            0\n",
            "3    707791274            0            0\n",
            "4    711573743            0            0\n",
            "..         ...          ...          ...\n",
            "846  711266608            0            0\n",
            "847  711828128            0            0\n",
            "848  711722569            0            0\n",
            "849  729375608            0            0\n",
            "850  782448980            0            0\n",
            "\n",
            "[851 rows x 3 columns]\n",
            "        shopid CM PIC Cluster\n",
            "0    702074807    Mia      EL\n",
            "1    702773389    Mia      EL\n",
            "2    706506841    Mia      EL\n",
            "3    707791274    Mia      EL\n",
            "4    711573743    Mia      EL\n",
            "..         ...    ...     ...\n",
            "846  711266608    Mia      EL\n",
            "847  711828128    Mia      EL\n",
            "848  711722569    Mia      EL\n",
            "849  729375608    Mia      EL\n",
            "850  782448980    Mia      EL\n",
            "\n",
            "[851 rows x 3 columns]\n"
          ]
        }
      ]
    },
    {
      "cell_type": "markdown",
      "source": [
        "**merge data**"
      ],
      "metadata": {
        "id": "ZWUrntTBozVh"
      }
    },
    {
      "cell_type": "code",
      "source": [
        "df_combined = pd.merge(df_cfs_selection,df_cfs_slots,how = 'inner',on='shopid')\n",
        "print(df_combined)"
      ],
      "metadata": {
        "colab": {
          "base_uri": "https://localhost:8080/"
        },
        "id": "J6k4KqFAqXAK",
        "outputId": "27734bda-2bc1-4273-813c-6750d46bd515"
      },
      "execution_count": 15,
      "outputs": [
        {
          "output_type": "stream",
          "name": "stdout",
          "text": [
            "        shopid CM PIC Cluster  CFS Slots 1  CFS Slots 2\n",
            "0    702074807    Mia      EL            0            0\n",
            "1    702773389    Mia      EL            0            0\n",
            "2    706506841    Mia      EL            0            0\n",
            "3    707791274    Mia      EL            0            0\n",
            "4    711573743    Mia      EL            0            0\n",
            "..         ...    ...     ...          ...          ...\n",
            "846  711266608    Mia      EL            0            0\n",
            "847  711828128    Mia      EL            0            0\n",
            "848  711722569    Mia      EL            0            0\n",
            "849  729375608    Mia      EL            0            0\n",
            "850  782448980    Mia      EL            0            0\n",
            "\n",
            "[851 rows x 5 columns]\n"
          ]
        }
      ]
    },
    {
      "cell_type": "markdown",
      "source": [
        "**calculate and group values**"
      ],
      "metadata": {
        "id": "pSGvth6qvVBh"
      }
    },
    {
      "cell_type": "code",
      "source": [
        "df=pd.read_csv(\"img_match_BR re.csv\",index_col=None)\n",
        "df.head()"
      ],
      "metadata": {
        "id": "dNdBdaN_vKjb"
      },
      "execution_count": null,
      "outputs": []
    },
    {
      "cell_type": "code",
      "source": [
        "df[\"score\"] = df[\"score\"]._get_numeric_data()"
      ],
      "metadata": {
        "id": "6vJW4eGgvexx"
      },
      "execution_count": null,
      "outputs": []
    },
    {
      "cell_type": "code",
      "source": [
        "df.head()"
      ],
      "metadata": {
        "id": "FGlOwlDGvisR"
      },
      "execution_count": null,
      "outputs": []
    },
    {
      "cell_type": "code",
      "source": [
        "df[\"rank\"]=df.groupby(\"item_id\")[\"score\"].rank(\"dense\",ascending=False)\n",
        "df.head()"
      ],
      "metadata": {
        "id": "afYzUXOSvkbF"
      },
      "execution_count": null,
      "outputs": []
    },
    {
      "cell_type": "code",
      "source": [
        "# df.to_csv(\"rank_itemid_wise_csv\")\n",
        "\n",
        "rank1 = df.loc[df['rank']==1.0]\n",
        "rank1"
      ],
      "metadata": {
        "id": "lW7kZtdFvmU9"
      },
      "execution_count": null,
      "outputs": []
    },
    {
      "cell_type": "markdown",
      "source": [
        "# Filter rows that match a given string in a column"
      ],
      "metadata": {
        "id": "exNLS5jgv5fN"
      }
    },
    {
      "cell_type": "code",
      "source": [
        "\n",
        "\n",
        "# df.isin?"
      ],
      "metadata": {
        "id": "5DBrB_8UvqXW"
      },
      "execution_count": null,
      "outputs": []
    },
    {
      "cell_type": "markdown",
      "source": [
        "# #Replace values under certain condition "
      ],
      "metadata": {
        "id": "W7Q3bzp1v4HQ"
      }
    },
    {
      "cell_type": "code",
      "source": [
        "\n",
        "# #Method 1\n",
        "# # df.Tm.mask(df.Tm == \"TOT\",\"IND\",inplace=True)\n",
        "\n",
        "# #Method 2\n",
        "# df.loc[df[\"Pos\"]==\"Center\",\"Pos\"]=\"C\"\n",
        "# df.head(5)\n",
        "\n",
        "#Method 3\n",
        "# df.Pos=np.where(df.Pos=='C',\"Center\",\"Not Center\")\n",
        "# df.head\n",
        "# df['FG%'].head()"
      ],
      "metadata": {
        "id": "d3AFUTkFvxtd"
      },
      "execution_count": null,
      "outputs": []
    },
    {
      "cell_type": "markdown",
      "source": [
        "Saving data to google sheets"
      ],
      "metadata": {
        "id": "7rgOtwwNwBAx"
      }
    },
    {
      "cell_type": "code",
      "source": [
        "\n",
        "# Open our new sheet and add some data.\n",
        "worksheet = gc.open('A new spreadsheet').sheet1\n",
        "\n",
        "cell_list = worksheet.range('A1:C2')\n",
        "\n",
        "import random\n",
        "for cell in cell_list:\n",
        "  cell.value = random.randint(1, 10)\n",
        "\n",
        "worksheet.update_cells(cell_list)\n",
        "# Go to https://sheets.google.com to see your new spreadsheet."
      ],
      "metadata": {
        "id": "fWiKuQQowEg5"
      },
      "execution_count": null,
      "outputs": []
    },
    {
      "cell_type": "markdown",
      "source": [
        "Listing files in google drive"
      ],
      "metadata": {
        "id": "PkWdkGkjwSc9"
      }
    },
    {
      "cell_type": "code",
      "source": [
        "# Import PyDrive and associated libraries.\n",
        "# This only needs to be done once per notebook.\n",
        "from pydrive.auth import GoogleAuth\n",
        "from pydrive.drive import GoogleDrive\n",
        "from google.colab import auth\n",
        "from oauth2client.client import GoogleCredentials\n",
        "\n",
        "# Authenticate and create the PyDrive client.\n",
        "# This only needs to be done once per notebook.\n",
        "auth.authenticate_user()\n",
        "gauth = GoogleAuth()\n",
        "gauth.credentials = GoogleCredentials.get_application_default()\n",
        "drive = GoogleDrive(gauth)\n",
        "\n",
        "# List .txt files in the root.\n",
        "#\n",
        "# Search query reference:\n",
        "# https://developers.google.com/drive/v2/web/search-parameters\n",
        "listed = drive.ListFile({'q': \"title contains '.txt' and 'root' in parents\"}).GetList()\n",
        "for file in listed:\n",
        "  print('title {}, id {}'.format(file['title'], file['id']))"
      ],
      "metadata": {
        "id": "CJMdjrKWwWXW"
      },
      "execution_count": null,
      "outputs": []
    },
    {
      "cell_type": "markdown",
      "source": [
        "saving data to Google Drive"
      ],
      "metadata": {
        "id": "QiQCN1_pwwO2"
      }
    },
    {
      "cell_type": "code",
      "source": [
        "\n",
        "# Authenticate and create the PyDrive client.\n",
        "# This only needs to be done once in a notebook.\n",
        "auth.authenticate_user()\n",
        "gauth = GoogleAuth()\n",
        "gauth.credentials = GoogleCredentials.get_application_default()\n",
        "drive = GoogleDrive(gauth)\n",
        "\n",
        "# Create & upload a text file.\n",
        "uploaded = drive.CreateFile({'title': 'Sample file.txt'})\n",
        "uploaded.SetContentString('Sample upload file content')\n",
        "uploaded.Upload()\n",
        "print('Uploaded file with ID {}'.format(uploaded.get('id')))"
      ],
      "metadata": {
        "id": "pB5WCwd4wssV"
      },
      "execution_count": null,
      "outputs": []
    },
    {
      "cell_type": "markdown",
      "source": [
        "open file from local"
      ],
      "metadata": {
        "id": "sO0UNYMBxDPR"
      }
    },
    {
      "cell_type": "code",
      "source": [
        "from google.colab import files\n",
        "\n",
        "uploaded = files.upload()\n",
        "\n",
        "for fn in uploaded.keys():\n",
        "  print('User uploaded file \"{name}\" with length {length} bytes'.format(\n",
        "      name=fn, length=len(uploaded[fn])))"
      ],
      "metadata": {
        "id": "e9mrWXzsxIy3"
      },
      "execution_count": null,
      "outputs": []
    }
  ]
}